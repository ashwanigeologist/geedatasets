{
 "cells": [
  {
   "cell_type": "code",
   "execution_count": 1,
   "metadata": {},
   "outputs": [],
   "source": [
    "import sys\n",
    "sys.path.append('..')"
   ]
  },
  {
   "cell_type": "code",
   "execution_count": 2,
   "metadata": {},
   "outputs": [],
   "source": [
    "import geedatasets"
   ]
  },
  {
   "cell_type": "markdown",
   "metadata": {},
   "source": [
    "# Landsat 5 SR"
   ]
  },
  {
   "cell_type": "code",
   "execution_count": 3,
   "metadata": {},
   "outputs": [],
   "source": [
    "l5sr = geedatasets.fromShortName('L5SR')"
   ]
  },
  {
   "cell_type": "code",
   "execution_count": 4,
   "metadata": {},
   "outputs": [
    {
     "name": "stdout",
     "output_type": "stream",
     "text": [
      "ID: LANDSAT/LT05/C01/T1_SR\n",
      "Short Name: L5SR\n",
      "Spacecraft: LANDSAT\n",
      "Number: 5\n",
      "Sensor: TM\n",
      "Process: SR\n",
      "Start Date: 1984-04-16\n",
      "End Date: 2012-05-05\n",
      "Cloud Cover: CLOUD_COVER\n",
      "Tier: 1\n",
      "Bands: ['B1 (blue)', 'B2 (green)', 'B3 (red)', 'B4 (nir)', 'B5 (swir)', 'B6 (thermal)', 'B7 (swir2)', 'sr_atmos_opacity (atmos_opacity)', 'sr_cloud_qa (cloud_qa)', 'pixel_qa (pixel_qa)', 'radsat_qa (radsat_qa)']\n",
      "Masks: ['pixel_qa', 'cloud_qa']\n",
      "visualizers: ['trueColor', 'falseColor', 'NSR', 'atmos_opacity']\n",
      "\n"
     ]
    }
   ],
   "source": [
    "print(l5sr)"
   ]
  },
  {
   "cell_type": "markdown",
   "metadata": {},
   "source": [
    "### Get the collection, an image and visualize"
   ]
  },
  {
   "cell_type": "code",
   "execution_count": 5,
   "metadata": {},
   "outputs": [],
   "source": [
    "import ee\n",
    "ee.Initialize()\n",
    "import ipygee as ui"
   ]
  },
  {
   "cell_type": "code",
   "execution_count": 6,
   "metadata": {},
   "outputs": [
    {
     "data": {
      "application/vnd.jupyter.widget-view+json": {
       "model_id": "31e8bc369e9744bea1318c63ca63c100",
       "version_major": 2,
       "version_minor": 0
      },
      "text/plain": [
       "Map(center=[0, 0], controls=(ZoomControl(options=['position', 'zoom_in_text', 'zoom_in_title', 'zoom_out_text'…"
      ]
     },
     "metadata": {},
     "output_type": "display_data"
    },
    {
     "data": {
      "application/vnd.jupyter.widget-view+json": {
       "model_id": "85dc7467f3ee437a9bcb9c738b6d8902",
       "version_major": 2,
       "version_minor": 0
      },
      "text/plain": [
       "Tab(children=(CustomInspector(children=(SelectMultiple(options=OrderedDict(), value=()), Accordion(selected_in…"
      ]
     },
     "metadata": {},
     "output_type": "display_data"
    }
   ],
   "source": [
    "Map = ui.Map()\n",
    "Map.show()"
   ]
  },
  {
   "cell_type": "code",
   "execution_count": 7,
   "metadata": {},
   "outputs": [],
   "source": [
    "point = ee.Geometry.Point([-72, -42])\n",
    "Map.centerObject(point, 12)"
   ]
  },
  {
   "cell_type": "code",
   "execution_count": 8,
   "metadata": {},
   "outputs": [],
   "source": [
    "collection = l5sr.collection().filterBounds(point)"
   ]
  },
  {
   "cell_type": "code",
   "execution_count": 9,
   "metadata": {},
   "outputs": [],
   "source": [
    "image = collection.first()"
   ]
  },
  {
   "cell_type": "code",
   "execution_count": 10,
   "metadata": {},
   "outputs": [],
   "source": [
    "Map.addLayer(image, l5sr.visualization('trueColor'), 'L5 SR image trueColor')"
   ]
  },
  {
   "cell_type": "markdown",
   "metadata": {},
   "source": [
    "# Get the QA method\n",
    "The attribute `common_masks` is a list with the dataset's QA methods. The first item is the most used. For example, for Sentinel 2 the fist items is the QA method for masking using the SCL band, and the second is for the QA60 band."
   ]
  },
  {
   "cell_type": "code",
   "execution_count": 11,
   "metadata": {},
   "outputs": [],
   "source": [
    "qa = l5sr.masks[0]"
   ]
  },
  {
   "cell_type": "code",
   "execution_count": 12,
   "metadata": {},
   "outputs": [
    {
     "name": "stdout",
     "output_type": "stream",
     "text": [
      "'pixel_qa' Mask\n",
      "options: ['clear', 'water', 'shadow', 'snow', 'cloud', 'high_confidence_cloud', 'high_confidence_cirrus']\n",
      "default negatives: ['water', 'shadow', 'snow', 'cloud', 'high_confidence_cloud', 'high_confidence_cirrus']\n",
      "default positives: ['clear']\n",
      "\n"
     ]
    }
   ],
   "source": [
    "print(qa)"
   ]
  },
  {
   "cell_type": "code",
   "execution_count": 13,
   "metadata": {},
   "outputs": [],
   "source": [
    "masked = qa.apply(image)"
   ]
  },
  {
   "cell_type": "code",
   "execution_count": 14,
   "metadata": {},
   "outputs": [],
   "source": [
    "Map.addLayer(masked, l5sr.visualization('falseColor'), 'L5 SR masked')"
   ]
  },
  {
   "cell_type": "code",
   "execution_count": 15,
   "metadata": {},
   "outputs": [],
   "source": [
    "# You can get a custom mask\n",
    "# For example, where is the snow?\n",
    "snow = qa.get(image, positives=['snow'])\n",
    "Map.addLayer(snow.selfMask(), dict(palette=['red']), name='snow (red)')"
   ]
  },
  {
   "cell_type": "code",
   "execution_count": 16,
   "metadata": {},
   "outputs": [],
   "source": [
    "# The mask can also be applied in a map function\n",
    "filtered = collection.limit(3).map(lambda i: qa.apply(i))"
   ]
  },
  {
   "cell_type": "code",
   "execution_count": 17,
   "metadata": {},
   "outputs": [],
   "source": [
    "Map.addImageCollection(filtered, l5sr.visualization('NSR'), 'L5 SR {system_date}', datePattern='yyyy-MM-dd')"
   ]
  },
  {
   "cell_type": "markdown",
   "metadata": {},
   "source": [
    "## Other bands\n",
    "### Atmospheric opacity"
   ]
  },
  {
   "cell_type": "code",
   "execution_count": 18,
   "metadata": {},
   "outputs": [],
   "source": [
    "atmos = l5sr.getBandByAlias('atmos_opacity')"
   ]
  },
  {
   "cell_type": "code",
   "execution_count": 19,
   "metadata": {},
   "outputs": [
    {
     "name": "stdout",
     "output_type": "stream",
     "text": [
      "Band sr_atmos_opacity(atmos_opacity):\n",
      "resolution: 30\n",
      "precision: int16\n",
      "units: None\n",
      "classes: {'clear': 'value<0.1', 'average': '0.1>=value<=0.3', 'hazy': 'value>0.3'}\n",
      "positives: ['clear', 'average']\n",
      "negatives: ['hazy']\n",
      "\n"
     ]
    }
   ],
   "source": [
    "print(atmos)"
   ]
  },
  {
   "cell_type": "code",
   "execution_count": 20,
   "metadata": {},
   "outputs": [],
   "source": [
    "Map.addLayer(image, l5sr.visualization('atmos_opacity'), 'atmospheric opacity')"
   ]
  },
  {
   "cell_type": "code",
   "execution_count": 21,
   "metadata": {},
   "outputs": [],
   "source": [
    "atmosI = atmos.decodeImage(image)"
   ]
  },
  {
   "cell_type": "code",
   "execution_count": 22,
   "metadata": {},
   "outputs": [],
   "source": [
    "Map.addLayer(atmosI, name='atmospheric opacity decoded')"
   ]
  },
  {
   "cell_type": "markdown",
   "metadata": {},
   "source": [
    "# Landsat 8"
   ]
  },
  {
   "cell_type": "code",
   "execution_count": 23,
   "metadata": {},
   "outputs": [],
   "source": [
    "l8sr = geedatasets.fromShortName('L8SR')"
   ]
  },
  {
   "cell_type": "code",
   "execution_count": 24,
   "metadata": {},
   "outputs": [
    {
     "name": "stdout",
     "output_type": "stream",
     "text": [
      "ID: LANDSAT/LC08/C01/T1_SR\n",
      "Short Name: L8SR\n",
      "Spacecraft: LANDSAT\n",
      "Number: 8\n",
      "Sensor: OLI\n",
      "Process: SR\n",
      "Start Date: 2013-03-18\n",
      "End Date: None\n",
      "Cloud Cover: CLOUD_COVER\n",
      "Tier: 1\n",
      "Bands: ['B1 (coastal_aerosol)', 'B2 (blue)', 'B3 (green)', 'B4 (red)', 'B5 (nir)', 'B6 (swir)', 'B10 (thermal)', 'B11 (thermal2)', 'sr_aerosol (sr_aerosol)', 'pixel_qa (pixel_qa)', 'radsat_qa (radsat_qa)']\n",
      "Masks: ['pixel_qa']\n",
      "visualizers: ['trueColor', 'falseColor', 'NSR']\n",
      "\n"
     ]
    }
   ],
   "source": [
    "print(l8sr)"
   ]
  },
  {
   "cell_type": "code",
   "execution_count": 25,
   "metadata": {},
   "outputs": [],
   "source": [
    "collectionL8 = l8sr.collection().filterBounds(point)"
   ]
  },
  {
   "cell_type": "code",
   "execution_count": 26,
   "metadata": {},
   "outputs": [],
   "source": [
    "imageL8 = collectionL8.first()"
   ]
  },
  {
   "cell_type": "code",
   "execution_count": 27,
   "metadata": {},
   "outputs": [],
   "source": [
    "Map.addLayer(imageL8, l8sr.visualization('NSR'), 'Landsat 8 SR NSR')"
   ]
  },
  {
   "cell_type": "code",
   "execution_count": 28,
   "metadata": {},
   "outputs": [],
   "source": [
    "l8qa = l8sr.masks[0]"
   ]
  },
  {
   "cell_type": "code",
   "execution_count": 29,
   "metadata": {},
   "outputs": [
    {
     "name": "stdout",
     "output_type": "stream",
     "text": [
      "'pixel_qa' Mask\n",
      "options: ['clear', 'water', 'shadow', 'snow', 'cloud', 'high_confidence_cloud', 'high_confidence_cirrus']\n",
      "default negatives: ['water', 'shadow', 'snow', 'cloud', 'high_confidence_cloud', 'high_confidence_cirrus']\n",
      "default positives: ['clear']\n",
      "\n"
     ]
    }
   ],
   "source": [
    "print(l8qa)"
   ]
  },
  {
   "cell_type": "code",
   "execution_count": 30,
   "metadata": {},
   "outputs": [],
   "source": [
    "Map.addLayer(l8qa.apply(imageL8), l8sr.visualization('falseColor'), 'L8 SR masked falseColor')"
   ]
  },
  {
   "cell_type": "code",
   "execution_count": 31,
   "metadata": {},
   "outputs": [],
   "source": [
    "# Mask a collection"
   ]
  },
  {
   "cell_type": "code",
   "execution_count": 32,
   "metadata": {},
   "outputs": [],
   "source": [
    "maskedL8 = collectionL8.map(lambda i: l8qa.apply(i))"
   ]
  },
  {
   "cell_type": "code",
   "execution_count": 33,
   "metadata": {},
   "outputs": [],
   "source": [
    "Map.addImageCollection(maskedL8.limit(3), l8sr.visualization('falseColor'), 'L8 SR masked {system_date}', datePattern='yyyy-MM-dd')"
   ]
  },
  {
   "cell_type": "markdown",
   "metadata": {},
   "source": [
    "## Extra bands: NBR"
   ]
  },
  {
   "cell_type": "code",
   "execution_count": 34,
   "metadata": {},
   "outputs": [
    {
     "data": {
      "text/plain": [
       "['NDVI', 'NBR']"
      ]
     },
     "execution_count": 34,
     "metadata": {},
     "output_type": "execute_result"
    }
   ],
   "source": [
    "l8sr.extraBandNames()"
   ]
  },
  {
   "cell_type": "code",
   "execution_count": 35,
   "metadata": {},
   "outputs": [],
   "source": [
    "nbr = l8sr.getBandByName('NBR')"
   ]
  },
  {
   "cell_type": "code",
   "execution_count": 36,
   "metadata": {},
   "outputs": [],
   "source": [
    "nbr_col = collectionL8.map(lambda i: l8sr.addBand(i, nbr))"
   ]
  },
  {
   "cell_type": "code",
   "execution_count": 37,
   "metadata": {},
   "outputs": [],
   "source": [
    "Map.addImageCollection(nbr_col.limit(3), namePattern='L8 SR NBR {system_date}')"
   ]
  },
  {
   "cell_type": "code",
   "execution_count": null,
   "metadata": {},
   "outputs": [],
   "source": []
  }
 ],
 "metadata": {
  "kernelspec": {
   "display_name": "Python 3",
   "language": "python",
   "name": "python3"
  },
  "language_info": {
   "codemirror_mode": {
    "name": "ipython",
    "version": 3
   },
   "file_extension": ".py",
   "mimetype": "text/x-python",
   "name": "python",
   "nbconvert_exporter": "python",
   "pygments_lexer": "ipython3",
   "version": "3.7.6"
  }
 },
 "nbformat": 4,
 "nbformat_minor": 4
}
